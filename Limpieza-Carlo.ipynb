{
 "cells": [
  {
   "cell_type": "code",
   "execution_count": 2,
   "metadata": {},
   "outputs": [],
   "source": [
    "import pymongo\n",
    "\n",
    "client = pymongo.MongoClient(\"mongodb://localhost:27017/\")\n",
    "#Crear base de datos\n",
    "db = client[\"mi_base\"]\n"
   ]
  },
  {
   "cell_type": "code",
   "execution_count": 3,
   "metadata": {},
   "outputs": [
    {
     "name": "stdout",
     "output_type": "stream",
     "text": [
      "Base de datos y colección creadas\n"
     ]
    }
   ],
   "source": [
    "#Crear la colección\n",
    "collection = db[\"mi colección\"]\n",
    "#Inserto documento de prueba\n",
    "collection.insert_one({\"mensaje\": \"Hola, MongoDB desde Python!\"})\n",
    "\n",
    "print(\"Base de datos y colección creadas\")\n"
   ]
  },
  {
   "cell_type": "code",
   "execution_count": 1,
   "metadata": {},
   "outputs": [
    {
     "name": "stdout",
     "output_type": "stream",
     "text": [
      "Defaulting to user installation because normal site-packages is not writeableNote: you may need to restart the kernel to use updated packages.\n",
      "\n",
      "Requirement already satisfied: pymongo in c:\\users\\hp\\appdata\\roaming\\python\\python313\\site-packages (4.11.1)\n",
      "Requirement already satisfied: dnspython<3.0.0,>=1.16.0 in c:\\users\\hp\\appdata\\roaming\\python\\python313\\site-packages (from pymongo) (2.7.0)\n"
     ]
    },
    {
     "name": "stderr",
     "output_type": "stream",
     "text": [
      "\n",
      "[notice] A new release of pip is available: 24.3.1 -> 25.0.1\n",
      "[notice] To update, run: python.exe -m pip install --upgrade pip\n"
     ]
    }
   ],
   "source": [
    "pip install pymongo"
   ]
  },
  {
   "cell_type": "code",
   "execution_count": 8,
   "metadata": {},
   "outputs": [
    {
     "name": "stdout",
     "output_type": "stream",
     "text": [
      "Datos insertados en MongoDB ✅\n"
     ]
    }
   ],
   "source": [
    "import json\n",
    "\n",
    "# Ruta completa al archivo en Descargas\n",
    "ruta_json = r\"C:\\Users\\HP\\Downloads\\nobel_winners.json\"\n",
    "\n",
    "# Cargar JSON\n",
    "with open(ruta_json, \"r\", encoding=\"utf-8\") as file:\n",
    "    data = json.load(file)\n",
    "\n",
    "# Insertar en MongoDB\n",
    "if isinstance(data, list):\n",
    "    collection.insert_many(data)  \n",
    "else:\n",
    "    collection.insert_one(data)  \n",
    "\n",
    "print(\"Datos insertados en MongoDB ✅\")\n"
   ]
  },
  {
   "cell_type": "code",
   "execution_count": 21,
   "metadata": {},
   "outputs": [],
   "source": [
    "documents = list(collection.find())"
   ]
  },
  {
   "cell_type": "code",
   "execution_count": 22,
   "metadata": {},
   "outputs": [],
   "source": [
    "#Diccionarios limpios:\n",
    "updated_files = {}"
   ]
  },
  {
   "cell_type": "code",
   "execution_count": 23,
   "metadata": {},
   "outputs": [],
   "source": [
    "for doc in documents:\n",
    "    for key, value in doc.items():\n",
    "        if isinstance(value, bytes):\n",
    "            updated_files[key] = value.decode(\"utf-8\")\n",
    "        else:\n",
    "            updated_files[key] = str(value) #TODOS LOS VALORES LO HARÉ STRING"
   ]
  },
  {
   "cell_type": "code",
   "execution_count": 24,
   "metadata": {},
   "outputs": [],
   "source": [
    "for doc in documents:\n",
    "    for key, value in doc.items():\n",
    "        if value == \"\" or value is None:\n",
    "            updated_files[key] = \"NaN\" #NO PONGO VALOR VACIO EN SI, SINO UN STRING\n"
   ]
  },
  {
   "cell_type": "code",
   "execution_count": 25,
   "metadata": {},
   "outputs": [],
   "source": [
    "import re\n",
    "\n",
    "for doc in documents:\n",
    "    if \"name\" in doc and isinstance(doc[\"name\"], str):\n",
    "        updated_files[\"name\"] = re.sub(r\"\\*\", \"\", doc[\"name\"]) #Regular expresion para quitar asteriscos en name"
   ]
  },
  {
   "cell_type": "markdown",
   "metadata": {},
   "source": [
    "# Eliminar los individuos repetidos. (verificar que de veras sea duplicado ya que podría haber ganado 2 veces el nobel en distinto año)"
   ]
  },
  {
   "cell_type": "code",
   "execution_count": 26,
   "metadata": {},
   "outputs": [],
   "source": [
    "for doc in documents:    \n",
    "    if \"name\" in doc and \"year\" in doc:\n",
    "        duplicate_count = collection.count_documents({\"name\": doc[\"name\"], \"year\": doc[\"year\"]})\n",
    "        if duplicate_count > 1:\n",
    "            updated_files[\"is_duplicate\"] = True  # Marcar duplicados en lugar de eliminarlos"
   ]
  },
  {
   "cell_type": "code",
   "execution_count": null,
   "metadata": {},
   "outputs": [],
   "source": [
    "import numpy as np\n",
    "from datetime import datetime\n",
    "\n",
    "#Ciclamos los demás a la vez\n",
    "for doc in documents:\n",
    "\n",
    "    #Este creo que es mejor hacerlo al consultar que con MongoDB:\n",
    "    # collection.find().sort([(\"name\", 1), (\"country\", 1), (\"year\", 1)])\n",
    "\n",
    "    # 6) Rellenar categoría faltante \n",
    "    if \"category\" in doc and doc[\"category\"] is None and \"year\" in doc:\n",
    "        same_year_doc = collection.find_one({\"year\": doc[\"year\"], \"category\": {\"$ne\": None}}) #Uso arbitrariamente a otro ganador\n",
    "        if same_year_doc:\n",
    "            updated_files[\"category\"] = same_year_doc[\"category\"]\n",
    "\n",
    "    # 7) Rellenar el género de los registros faltantes \n",
    "    if \"gender\" in doc and doc[\"gender\"] is None:\n",
    "        updated_files[\"gender\"] = \"Unknown\"\n",
    "\n",
    "    # 8) Convertir fechas de nacimiento y muerte en formato `numpy.datetime64`\n",
    "    for date_field in [\"date_of_birth\", \"date_of_death\"]:\n",
    "        if date_field in doc and isinstance(doc[date_field], str):\n",
    "            try:\n",
    "                updated_files[date_field] = np.datetime64(datetime.strptime(doc[date_field], \"%Y-%m-%d\"))\n",
    "            except ValueError:\n",
    "                updated_files[date_field] = None  # Si no hay fecha\n",
    "\n",
    "    # 9) Eliminar premios que no fueron dados a personas (si no tiene un `name` válido)\n",
    "    if \"name\" not in doc or not isinstance(doc[\"name\"], str):\n",
    "        collection.delete_one({\"_id\": doc[\"_id\"]})\n",
    "        continue  # Pasamos al siguiente documento para evitar hacer un update innecesario\n",
    "\n",
    "    # Aplicar cambios en la base de datos\n",
    "    if updated_files:\n",
    "        collection.update_one({\"_id\": doc[\"_id\"]}, {\"$set\": updated_files})\n",
    "\n",
    "# Crear índice para ordenar automáticamente las consultas\n",
    "collection.create_index([(\"name\", 1), (\"country\", 1), (\"year\", 1)])"
   ]
  }
 ],
 "metadata": {
  "kernelspec": {
   "display_name": "Python 3",
   "language": "python",
   "name": "python3"
  },
  "language_info": {
   "codemirror_mode": {
    "name": "ipython",
    "version": 3
   },
   "file_extension": ".py",
   "mimetype": "text/x-python",
   "name": "python",
   "nbconvert_exporter": "python",
   "pygments_lexer": "ipython3",
   "version": "3.13.1"
  }
 },
 "nbformat": 4,
 "nbformat_minor": 2
}
